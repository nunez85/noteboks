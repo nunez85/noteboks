{
 "cells": [
  {
   "cell_type": "code",
   "execution_count": 1,
   "id": "6243452f-d112-4145-9c48-c938048409f0",
   "metadata": {},
   "outputs": [],
   "source": [
    "my_array <- array(1:9, dim = c(3, 3))\n"
   ]
  },
  {
   "cell_type": "code",
   "execution_count": 2,
   "id": "1f6b2b3e-f013-490c-95ce-62b00e9c8c95",
   "metadata": {},
   "outputs": [
    {
     "data": {
      "text/plain": [
       "     [,1] [,2] [,3]\n",
       "[1,]    1    4    7\n",
       "[2,]    2    5    8\n",
       "[3,]    3    6    9"
      ]
     },
     "execution_count": 2,
     "metadata": {},
     "output_type": "execute_result"
    }
   ],
   "source": [
    "my_array"
   ]
  },
  {
   "cell_type": "code",
   "execution_count": null,
   "id": "24e8e8ae-d583-4a53-b05a-a2c27230ecc2",
   "metadata": {},
   "outputs": [],
   "source": []
  },
  {
   "cell_type": "code",
   "execution_count": null,
   "id": "9dc83f35-a78f-4d27-9fb0-e46eaf91c184",
   "metadata": {},
   "outputs": [],
   "source": []
  }
 ],
 "metadata": {
  "kernelspec": {
   "display_name": "R (RKernel)",
   "language": "R",
   "name": "rkernel"
  },
  "language_info": {
   "codemirror_mode": "R",
   "file_extension": ".R",
   "mimetype": "text/x-r-source",
   "name": "R",
   "pygments_lexer": "r",
   "version": "4.4.1"
  }
 },
 "nbformat": 4,
 "nbformat_minor": 5
}
