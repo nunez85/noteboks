{
 "cells": [
  {
   "cell_type": "code",
   "execution_count": 2,
   "id": "e49e2875",
   "metadata": {},
   "outputs": [
    {
     "name": "stdout",
     "output_type": "stream",
     "text": [
      "Hello, World!\n"
     ]
    },
    {
     "data": {
      "text/plain": [
       "ok\n"
      ]
     },
     "execution_count": 2,
     "metadata": {},
     "output_type": "execute_result"
    }
   ],
   "source": [
    "io:format(\"Hello, World!~n\")."
   ]
  },
  {
   "cell_type": "code",
   "execution_count": null,
   "id": "c70e8c54",
   "metadata": {},
   "outputs": [],
   "source": []
  }
 ],
 "metadata": {
  "kernelspec": {
   "display_name": "erlang (erlang)",
   "language": "erlang",
   "name": "erlang"
  },
  "language_info": {
   "file_extension": ".erl",
   "name": "erlang",
   "version": "25.3.2.13"
  }
 },
 "nbformat": 4,
 "nbformat_minor": 5
}
