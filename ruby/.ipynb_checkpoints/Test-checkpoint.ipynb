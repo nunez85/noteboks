{
 "cells": [
  {
   "cell_type": "code",
   "execution_count": 1,
   "id": "2150f42e",
   "metadata": {},
   "outputs": [
    {
     "name": "stdout",
     "output_type": "stream",
     "text": [
      "Key: name, Value: Alice\n",
      "Key: age, Value: 30\n",
      "Key: city, Value: New York\n"
     ]
    },
    {
     "data": {
      "text/plain": [
       "{\"name\"=>\"Alice\", \"age\"=>30, \"city\"=>\"New York\"}"
      ]
     },
     "execution_count": 1,
     "metadata": {},
     "output_type": "execute_result"
    },
    {
     "ename": "Interrupt",
     "evalue": "",
     "output_type": "error",
     "traceback": [
      "\u001b[31mInterrupt\u001b[0m: ",
      "/home/inunez/.gem/ruby/3.3.0/gems/ffi-rzmq-2.0.7/lib/ffi-rzmq/socket.rb:584:in `zmq_recvmsg'",
      "/home/inunez/.gem/ruby/3.3.0/gems/ffi-rzmq-2.0.7/lib/ffi-rzmq/socket.rb:584:in `__recvmsg__'",
      "/home/inunez/.gem/ruby/3.3.0/gems/ffi-rzmq-2.0.7/lib/ffi-rzmq/socket.rb:321:in `recvmsg'",
      "/home/inunez/.gem/ruby/3.3.0/gems/ffi-rzmq-2.0.7/lib/ffi-rzmq/socket.rb:342:in `recv_string'",
      "/home/inunez/.gem/ruby/3.3.0/gems/iruby-0.8.0/lib/iruby/session_adapter/ffirzmq_adapter.rb:19:in `recv'",
      "/home/inunez/.gem/ruby/3.3.0/gems/iruby-0.8.0/lib/iruby/session.rb:93:in `recv'",
      "/home/inunez/.gem/ruby/3.3.0/gems/iruby-0.8.0/lib/iruby/kernel.rb:133:in `dispatch'",
      "/home/inunez/.gem/ruby/3.3.0/gems/iruby-0.8.0/lib/iruby/kernel.rb:127:in `run'",
      "/home/inunez/.gem/ruby/3.3.0/gems/iruby-0.8.0/lib/iruby/kernel_app.rb:90:in `run_kernel'",
      "/home/inunez/.gem/ruby/3.3.0/gems/iruby-0.8.0/lib/iruby/kernel_app.rb:13:in `run'",
      "/home/inunez/.gem/ruby/3.3.0/gems/iruby-0.8.0/lib/iruby/application.rb:110:in `run'",
      "/home/inunez/.gem/ruby/3.3.0/gems/iruby-0.8.0/exe/iruby:7:in `<top (required)>'",
      "/home/inunez/.gem/ruby/3.3.0/bin/iruby:25:in `load'",
      "/home/inunez/.gem/ruby/3.3.0/bin/iruby:25:in `<main>'"
     ]
    }
   ],
   "source": [
    "# Define a hash\n",
    "my_hash = { \"name\" => \"Alice\", \"age\" => 30, \"city\" => \"New York\" }\n",
    "\n",
    "# Iterate over the hash\n",
    "my_hash.each do |key, value|\n",
    "  puts \"Key: #{key}, Value: #{value}\"\n",
    "end\n"
   ]
  },
  {
   "cell_type": "code",
   "execution_count": null,
   "id": "f5176e59",
   "metadata": {},
   "outputs": [],
   "source": []
  }
 ],
 "metadata": {
  "kernelspec": {
   "display_name": "Ruby 3 (iruby kernel)",
   "language": "ruby",
   "name": "ruby3"
  },
  "language_info": {
   "file_extension": ".rb",
   "mimetype": "application/x-ruby",
   "name": "ruby",
   "version": "3.3.4"
  }
 },
 "nbformat": 4,
 "nbformat_minor": 5
}
