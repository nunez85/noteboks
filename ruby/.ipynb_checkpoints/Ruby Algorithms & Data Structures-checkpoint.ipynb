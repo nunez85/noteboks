{
 "cells": [
  {
   "cell_type": "markdown",
   "id": "f4c33c18-198a-48fb-bc7f-1e6d79bd8260",
   "metadata": {},
   "source": [
    "# Algorithms & Data Structures"
   ]
  },
  {
   "cell_type": "markdown",
   "id": "d1ea0513-2866-4a6c-866f-34c0e6baf447",
   "metadata": {},
   "source": [
    "## Simple Data Structures"
   ]
  },
  {
   "cell_type": "code",
   "execution_count": 2,
   "id": "64440386-b5a3-41fa-b7fa-fd78c3b88372",
   "metadata": {},
   "outputs": [
    {
     "data": {
      "text/plain": [
       "[1, 2, 3]"
      ]
     },
     "execution_count": 2,
     "metadata": {},
     "output_type": "execute_result"
    }
   ],
   "source": [
    "# lists\n",
    "[] << 1 << 2 << 3"
   ]
  },
  {
   "cell_type": "code",
   "execution_count": null,
   "id": "f21fb769-608c-45dc-86e5-2aaae406180c",
   "metadata": {},
   "outputs": [],
   "source": []
  }
 ],
 "metadata": {
  "kernelspec": {
   "display_name": "Ruby 3 (iruby kernel)",
   "language": "ruby",
   "name": "ruby3"
  },
  "language_info": {
   "file_extension": ".rb",
   "mimetype": "application/x-ruby",
   "name": "ruby",
   "version": "3.3.4"
  }
 },
 "nbformat": 4,
 "nbformat_minor": 5
}
