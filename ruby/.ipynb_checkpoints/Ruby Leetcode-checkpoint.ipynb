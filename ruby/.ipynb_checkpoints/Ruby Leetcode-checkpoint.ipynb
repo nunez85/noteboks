{
 "cells": [
  {
   "cell_type": "markdown",
   "id": "13f74bf3-e0d3-46a6-9489-d6e3dbe9b9a1",
   "metadata": {},
   "source": [
    "# Leetcode Solutions"
   ]
  },
  {
   "cell_type": "markdown",
   "id": "b12f20e1-5b68-4a65-b30a-5fe7768510aa",
   "metadata": {},
   "source": [
    "## 1. Two Sum\n",
    "Given an array of integers nums and an integer target, return indices of the two numbers such that they add up to target.\n",
    "You may assume that each input would have exactly one solution, and you may not use the same element twice.\n",
    "You can return the answer in any order.\n",
    "\n",
    "- Example 1:\n",
    "Input: nums = [2,7,11,15], target = 9\n",
    "Output: [0,1]\n",
    "Explanation: Because nums[0] + nums[1] == 9, we return [0, 1].\n",
    "\n",
    "- Example 2:\n",
    "Input: nums = [3,2,4], target = 6\n",
    "Output: [1,2]\n",
    "\n",
    "- Example 3:\n",
    "Input: nums = [3,3], target = 6\n",
    "Output: [0,1]\n",
    " \n",
    "**Constraints**:\n",
    "- 2 <= nums.length <= 104\n",
    "- 109 <= nums[i] <= 109\n",
    "- 109 <= target <= 109\n",
    "- Only one valid answer exists."
   ]
  },
  {
   "cell_type": "code",
   "execution_count": null,
   "id": "d1760bb7-9666-4f42-8455-6589eb9e55db",
   "metadata": {},
   "outputs": [],
   "source": []
  }
 ],
 "metadata": {
  "kernelspec": {
   "display_name": "Ruby 3 (iruby kernel)",
   "language": "ruby",
   "name": "ruby3"
  },
  "language_info": {
   "file_extension": ".rb",
   "mimetype": "application/x-ruby",
   "name": "ruby",
   "version": "3.3.4"
  }
 },
 "nbformat": 4,
 "nbformat_minor": 5
}
