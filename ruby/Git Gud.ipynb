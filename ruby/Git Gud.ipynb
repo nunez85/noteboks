{
 "cells": [
  {
   "cell_type": "markdown",
   "id": "4528fe0d-a29f-4f8c-90d5-2d081f4c9b0b",
   "metadata": {},
   "source": [
    "# Get Good at Ruby"
   ]
  },
  {
   "cell_type": "markdown",
   "id": "fd718127-0d37-4db0-9acf-7bba664b5bdd",
   "metadata": {},
   "source": [
    "In your terminal, you can call the following to know what a method does (pulls up docs):\n",
    "`ri Array#zip`\n",
    "To know the methods of a class, you can simply get an array of all methods by [].methods for example."
   ]
  },
  {
   "cell_type": "code",
   "execution_count": 27,
   "id": "b87aac54-3272-492d-bd15-e339c6fa874c",
   "metadata": {},
   "outputs": [
    {
     "name": "stdout",
     "output_type": "stream",
     "text": [
      "1: !\n",
      "2: !=\n",
      "3: !~\n",
      "4: &\n",
      "5: *\n",
      "6: +\n",
      "7: -\n",
      "8: <<\n",
      "9: <=>\n",
      "10: ==\n",
      "11: ===\n",
      "12: []\n",
      "13: []=\n",
      "14: __id__\n",
      "15: __send__\n",
      "16: all?\n",
      "17: any?\n",
      "18: append\n",
      "19: assoc\n",
      "20: at\n",
      "21: bsearch\n",
      "22: bsearch_index\n",
      "23: chain\n",
      "24: chunk\n",
      "25: chunk_while\n",
      "26: class\n",
      "27: clear\n",
      "28: clone\n",
      "29: collect\n",
      "30: collect!\n",
      "31: collect_concat\n",
      "32: combination\n",
      "33: compact\n",
      "34: compact!\n",
      "35: concat\n",
      "36: count\n",
      "37: cycle\n",
      "38: deconstruct\n",
      "39: define_singleton_method\n",
      "40: delete\n",
      "41: delete_at\n",
      "42: delete_if\n",
      "43: detect\n",
      "44: difference\n",
      "45: dig\n",
      "46: display\n",
      "47: drop\n",
      "48: drop_while\n",
      "49: dup\n",
      "50: each\n",
      "51: each_cons\n",
      "52: each_entry\n",
      "53: each_index\n",
      "54: each_slice\n",
      "55: each_with_index\n",
      "56: each_with_object\n",
      "57: empty?\n",
      "58: entries\n",
      "59: enum_for\n",
      "60: eql?\n",
      "61: equal?\n",
      "62: extend\n",
      "63: fetch\n",
      "64: fill\n",
      "65: filter\n",
      "66: filter!\n",
      "67: filter_map\n",
      "68: find\n",
      "69: find_all\n",
      "70: find_index\n",
      "71: first\n",
      "72: flat_map\n",
      "73: flatten\n",
      "74: flatten!\n",
      "75: freeze\n",
      "76: frozen?\n",
      "77: grep\n",
      "78: grep_v\n",
      "79: group_by\n",
      "80: hash\n",
      "81: include?\n",
      "82: index\n",
      "83: inject\n",
      "84: insert\n",
      "85: inspect\n",
      "86: instance_eval\n",
      "87: instance_exec\n",
      "88: instance_of?\n",
      "89: instance_variable_defined?\n",
      "90: instance_variable_get\n",
      "91: instance_variable_set\n",
      "92: instance_variables\n",
      "93: intersect?\n",
      "94: intersection\n",
      "95: is_a?\n",
      "96: itself\n",
      "97: join\n",
      "98: keep_if\n",
      "99: kind_of?\n",
      "100: last\n",
      "101: lazy\n",
      "102: length\n",
      "103: map\n",
      "104: map!\n",
      "105: max\n",
      "106: max_by\n",
      "107: member?\n",
      "108: method\n",
      "109: methods\n",
      "110: min\n",
      "111: min_by\n",
      "112: minmax\n",
      "113: minmax_by\n",
      "114: nil?\n",
      "115: none?\n",
      "116: object_id\n",
      "117: one?\n",
      "118: pack\n",
      "119: partition\n",
      "120: permutation\n",
      "121: pop\n",
      "122: prepend\n",
      "123: pretty_inspect\n",
      "124: pretty_print\n",
      "125: pretty_print_cycle\n",
      "126: pretty_print_inspect\n",
      "127: pretty_print_instance_variables\n",
      "128: private_methods\n",
      "129: product\n",
      "130: protected_methods\n",
      "131: public_method\n",
      "132: public_methods\n",
      "133: public_send\n",
      "134: push\n",
      "135: rassoc\n",
      "136: reduce\n",
      "137: reject\n",
      "138: reject!\n",
      "139: remove_instance_variable\n",
      "140: repeated_combination\n",
      "141: repeated_permutation\n",
      "142: replace\n",
      "143: respond_to?\n",
      "144: reverse\n",
      "145: reverse!\n",
      "146: reverse_each\n",
      "147: rindex\n",
      "148: rotate\n",
      "149: rotate!\n",
      "150: sample\n",
      "151: select\n",
      "152: select!\n",
      "153: send\n",
      "154: shelljoin\n",
      "155: shift\n",
      "156: shuffle\n",
      "157: shuffle!\n",
      "158: singleton_class\n",
      "159: singleton_method\n",
      "160: singleton_methods\n",
      "161: size\n",
      "162: slice\n",
      "163: slice!\n",
      "164: slice_after\n",
      "165: slice_before\n",
      "166: slice_when\n",
      "167: sort\n",
      "168: sort!\n",
      "169: sort_by\n",
      "170: sort_by!\n",
      "171: sum\n",
      "172: take\n",
      "173: take_while\n",
      "174: tally\n",
      "175: tap\n",
      "176: then\n",
      "177: to_a\n",
      "178: to_ary\n",
      "179: to_enum\n",
      "180: to_h\n",
      "181: to_json\n",
      "182: to_s\n",
      "183: to_set\n",
      "184: transpose\n",
      "185: union\n",
      "186: uniq\n",
      "187: uniq!\n",
      "188: unshift\n",
      "189: values_at\n",
      "190: yield_self\n",
      "191: zip\n",
      "192: |\n"
     ]
    },
    {
     "data": {
      "text/plain": [
       "[\"!\", \"!=\", \"!~\", \"&\", \"*\", \"+\", \"-\", \"<<\", \"<=>\", \"==\", \"===\", \"[]\", \"[]=\", \"__id__\", \"__send__\", \"all?\", \"any?\", \"append\", \"assoc\", \"at\", \"bsearch\", \"bsearch_index\", \"chain\", \"chunk\", \"chunk_while\", \"class\", \"clear\", \"clone\", \"collect\", \"collect!\", \"collect_concat\", \"combination\", \"compact\", \"compact!\", \"concat\", \"count\", \"cycle\", \"deconstruct\", \"define_singleton_method\", \"delete\", \"delete_at\", \"delete_if\", \"detect\", \"difference\", \"dig\", \"display\", \"drop\", \"drop_while\", \"dup\", \"each\", \"each_cons\", \"each_entry\", \"each_index\", \"each_slice\", \"each_with_index\", \"each_with_object\", \"empty?\", \"entries\", \"enum_for\", \"eql?\", \"equal?\", \"extend\", \"fetch\", \"fill\", \"filter\", \"filter!\", \"filter_map\", \"find\", \"find_all\", \"find_index\", \"first\", \"flat_map\", \"flatten\", \"flatten!\", \"freeze\", \"frozen?\", \"grep\", \"grep_v\", \"group_by\", \"hash\", \"include?\", \"index\", \"inject\", \"insert\", \"inspect\", \"instance_eval\", \"instance_exec\", \"instance_of?\", \"instance_variable_defined?\", \"instance_variable_get\", \"instance_variable_set\", \"instance_variables\", \"intersect?\", \"intersection\", \"is_a?\", \"itself\", \"join\", \"keep_if\", \"kind_of?\", \"last\", \"lazy\", \"length\", \"map\", \"map!\", \"max\", \"max_by\", \"member?\", \"method\", \"methods\", \"min\", \"min_by\", \"minmax\", \"minmax_by\", \"nil?\", \"none?\", \"object_id\", \"one?\", \"pack\", \"partition\", \"permutation\", \"pop\", \"prepend\", \"pretty_inspect\", \"pretty_print\", \"pretty_print_cycle\", \"pretty_print_inspect\", \"pretty_print_instance_variables\", \"private_methods\", \"product\", \"protected_methods\", \"public_method\", \"public_methods\", \"public_send\", \"push\", \"rassoc\", \"reduce\", \"reject\", \"reject!\", \"remove_instance_variable\", \"repeated_combination\", \"repeated_permutation\", \"replace\", \"respond_to?\", \"reverse\", \"reverse!\", \"reverse_each\", \"rindex\", \"rotate\", \"rotate!\", \"sample\", \"select\", \"select!\", \"send\", \"shelljoin\", \"shift\", \"shuffle\", \"shuffle!\", \"singleton_class\", \"singleton_method\", \"singleton_methods\", \"size\", \"slice\", \"slice!\", \"slice_after\", \"slice_before\", \"slice_when\", \"sort\", \"sort!\", \"sort_by\", \"sort_by!\", \"sum\", \"take\", \"take_while\", \"tally\", \"tap\", \"then\", \"to_a\", \"to_ary\", \"to_enum\", \"to_h\", \"to_json\", \"to_s\", \"to_set\", \"transpose\", \"union\", \"uniq\", \"uniq!\", \"unshift\", \"values_at\", \"yield_self\", \"zip\", \"|\"]"
      ]
     },
     "execution_count": 27,
     "metadata": {},
     "output_type": "execute_result"
    }
   ],
   "source": [
    "count = 0\n",
    "array_methods = [].methods.sort.map{|m| m.to_s }\n",
    "for method in array_methods\n",
    "    count += 1\n",
    "    puts \"#{count}: #{method}\"\n",
    "end"
   ]
  },
  {
   "cell_type": "code",
   "execution_count": 28,
   "id": "87a2c7dd-d3b2-4d9e-aeeb-daaec95bbdc9",
   "metadata": {},
   "outputs": [
    {
     "data": {
      "text/plain": [
       "true"
      ]
     },
     "execution_count": 28,
     "metadata": {},
     "output_type": "execute_result"
    }
   ],
   "source": [
    "array_methods.any? {|method| method == \"all?\"}"
   ]
  },
  {
   "cell_type": "code",
   "execution_count": 31,
   "id": "6dd130f9-144e-4960-b51a-4fe76c4517bb",
   "metadata": {},
   "outputs": [
    {
     "data": {
      "text/plain": [
       "[1, 2, 3, 4, 5]"
      ]
     },
     "execution_count": 31,
     "metadata": {},
     "output_type": "execute_result"
    }
   ],
   "source": [
    "[1, 2, 4].concat([3, 5]).sort"
   ]
  },
  {
   "cell_type": "code",
   "execution_count": 37,
   "id": "2d6c0683-e637-4f22-a6a9-4293a0ed68bd",
   "metadata": {},
   "outputs": [
    {
     "data": {
      "text/plain": [
       "[0, 0, 0, 0, 0]"
      ]
     },
     "execution_count": 37,
     "metadata": {},
     "output_type": "execute_result"
    }
   ],
   "source": [
    "[0, 1, 2, 3, 4].fill(0)"
   ]
  },
  {
   "cell_type": "code",
   "execution_count": 38,
   "id": "026f4315-ce87-4f3d-981e-9caf15ec55b3",
   "metadata": {},
   "outputs": [
    {
     "data": {
      "text/plain": [
       "true"
      ]
     },
     "execution_count": 38,
     "metadata": {},
     "output_type": "execute_result"
    }
   ],
   "source": [
    "[0, 1, 4, 5].include?(0)"
   ]
  },
  {
   "cell_type": "code",
   "execution_count": 39,
   "id": "8598ab81-62b8-4a5f-a130-1e8242494a2a",
   "metadata": {},
   "outputs": [
    {
     "data": {
      "text/plain": [
       "3"
      ]
     },
     "execution_count": 39,
     "metadata": {},
     "output_type": "execute_result"
    }
   ],
   "source": [
    "[0, 1, 2].length"
   ]
  },
  {
   "cell_type": "code",
   "execution_count": 48,
   "id": "b13d18a3-f562-4189-8170-7bbbb94f41a1",
   "metadata": {},
   "outputs": [
    {
     "data": {
      "text/plain": [
       ":insertion_sort"
      ]
     },
     "execution_count": 48,
     "metadata": {},
     "output_type": "execute_result"
    }
   ],
   "source": [
    "def insertion_sort(my_list, reverse = false)\n",
    "    for i in 1...my_list.length\n",
    "        j = i - 1\n",
    "        puts(my_list.inspect)\n",
    "        while j >= 0 and (reverse ? my_list[j+1] > my_list[j] : my_list[j+1] < my_list[j])\n",
    "            temp = my_list[j+1]\n",
    "            my_list[j+1] = my_list[j]\n",
    "            my_list[j] = temp\n",
    "            j -= 1\n",
    "        end\n",
    "    end\n",
    "    return my_list\n",
    "end"
   ]
  },
  {
   "cell_type": "code",
   "execution_count": 50,
   "id": "273660f9-c0b8-4b3f-8a9e-33f0578a7bcd",
   "metadata": {},
   "outputs": [
    {
     "name": "stdout",
     "output_type": "stream",
     "text": [
      "[5, 2, 1, 4]\n",
      "[5, 2, 1, 4]\n",
      "[5, 2, 1, 4]\n"
     ]
    },
    {
     "data": {
      "text/plain": [
       "[5, 4, 2, 1]"
      ]
     },
     "execution_count": 50,
     "metadata": {},
     "output_type": "execute_result"
    }
   ],
   "source": [
    "insertion_sort([5, 2, 1, 4], reverse = true)"
   ]
  },
  {
   "cell_type": "code",
   "execution_count": null,
   "id": "f010b8c5-cafe-4030-85ed-546062f57070",
   "metadata": {},
   "outputs": [],
   "source": []
  }
 ],
 "metadata": {
  "kernelspec": {
   "display_name": "Ruby 3 (iruby kernel)",
   "language": "ruby",
   "name": "ruby3"
  },
  "language_info": {
   "file_extension": ".rb",
   "mimetype": "application/x-ruby",
   "name": "ruby",
   "version": "3.3.4"
  }
 },
 "nbformat": 4,
 "nbformat_minor": 5
}
