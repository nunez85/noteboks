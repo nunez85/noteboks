{
 "cells": [
  {
   "cell_type": "markdown",
   "id": "13f74bf3-e0d3-46a6-9489-d6e3dbe9b9a1",
   "metadata": {},
   "source": [
    "# Leetcode Solutions"
   ]
  },
  {
   "cell_type": "markdown",
   "id": "b12f20e1-5b68-4a65-b30a-5fe7768510aa",
   "metadata": {},
   "source": [
    "## 1. Two Sum\n",
    "Given an array of integers nums and an integer target, return indices of the two numbers such that they add up to target.\n",
    "You may assume that each input would have exactly one solution, and you may not use the same element twice.\n",
    "You can return the answer in any order.\n",
    "\n",
    "- Example 1:\n",
    "Input: nums = [2,7,11,15], target = 9\n",
    "Output: [0,1]\n",
    "Explanation: Because nums[0] + nums[1] == 9, we return [0, 1].\n",
    "\n",
    "- Example 2:\n",
    "Input: nums = [3,2,4], target = 6\n",
    "Output: [1,2]\n",
    "\n",
    "- Example 3:\n",
    "Input: nums = [3,3], target = 6\n",
    "Output: [0,1]\n",
    " \n",
    "**Constraints**:\n",
    "- 2 <= nums.length <= 104\n",
    "- 109 <= nums[i] <= 109\n",
    "- 109 <= target <= 109\n",
    "- Only one valid answer exists."
   ]
  },
  {
   "cell_type": "code",
   "execution_count": 3,
   "id": "d1760bb7-9666-4f42-8455-6589eb9e55db",
   "metadata": {},
   "outputs": [
    {
     "data": {
      "text/plain": [
       ":two_sum"
      ]
     },
     "execution_count": 3,
     "metadata": {},
     "output_type": "execute_result"
    }
   ],
   "source": [
    "# @param {Integer[]} nums\n",
    "# @param {Integer} target\n",
    "# @return {Integer[]}\n",
    "def two_sum(nums, target)\n",
    "    differences = {}\n",
    "    nums.each_with_index do |num, i|\n",
    "        diff = target - num\n",
    "        if differences.key?(diff)\n",
    "            return [differences[diff], i]\n",
    "        end\n",
    "        differences[num] = i\n",
    "        \n",
    "    end\n",
    "end"
   ]
  },
  {
   "cell_type": "code",
   "execution_count": 5,
   "id": "f9483e97-18e7-425d-ae71-d2d5eb36db41",
   "metadata": {},
   "outputs": [
    {
     "name": "stdout",
     "output_type": "stream",
     "text": [
      "Example 1 two_sum([2, 7, 11, 15], 9) => [0, 1] expected [0, 1]\n",
      "Example 2 two_sum([3, 2, 4], 6) => [1, 2] expected [1 2]\n",
      "Example 1 two_sum([3, 3], 6) => [0, 1] expected [0 1]\n"
     ]
    }
   ],
   "source": [
    "puts \"Example 1 two_sum([2, 7, 11, 15], 9) => #{two_sum([2, 7, 11, 15], 9)} expected [0, 1]\"\n",
    "puts \"Example 2 two_sum([3, 2, 4], 6) => #{two_sum([3, 2, 4], 6)} expected [1 2]\"\n",
    "puts \"Example 1 two_sum([3, 3], 6) => #{two_sum([3, 3], 6)} expected [0 1]\""
   ]
  },
  {
   "cell_type": "code",
   "execution_count": 9,
   "id": "e47f1459-3954-4e70-8641-5910b693d5ac",
   "metadata": {},
   "outputs": [
    {
     "data": {
      "text/plain": [
       ":insertion_sort"
      ]
     },
     "execution_count": 9,
     "metadata": {},
     "output_type": "execute_result"
    }
   ],
   "source": [
    "def insertion_sort(my_list)\n",
    "    (1...my_list.length).each do |i|\n",
    "        j = i - 1\n",
    "        while j >= 0 and my_list[j+1] < my_list[j]\n",
    "            temp = my_list[j+1]\n",
    "            my_list[j+1] = my_list[j]\n",
    "            my_list[j] = temp\n",
    "            j -= 1\n",
    "        end\n",
    "    end\n",
    "    return my_list\n",
    "end"
   ]
  },
  {
   "cell_type": "code",
   "execution_count": 10,
   "id": "fdafb04b-1084-446f-8ece-c1fe5d165cde",
   "metadata": {},
   "outputs": [
    {
     "data": {
      "text/plain": [
       "[0, 1, 2, 3, 5, 8, 9]"
      ]
     },
     "execution_count": 10,
     "metadata": {},
     "output_type": "execute_result"
    }
   ],
   "source": [
    "insertion_sort([1, 5, 2, 3, 8, 9, 0])"
   ]
  },
  {
   "cell_type": "code",
   "execution_count": null,
   "id": "d14fcbf5-19a7-4365-ae51-51ca4b6914c8",
   "metadata": {},
   "outputs": [],
   "source": []
  }
 ],
 "metadata": {
  "kernelspec": {
   "display_name": "Ruby 3 (iruby kernel)",
   "language": "ruby",
   "name": "ruby3"
  },
  "language_info": {
   "file_extension": ".rb",
   "mimetype": "application/x-ruby",
   "name": "ruby",
   "version": "3.3.4"
  }
 },
 "nbformat": 4,
 "nbformat_minor": 5
}
