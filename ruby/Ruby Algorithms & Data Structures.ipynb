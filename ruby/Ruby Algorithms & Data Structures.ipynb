{
 "cells": [
  {
   "cell_type": "markdown",
   "id": "f4c33c18-198a-48fb-bc7f-1e6d79bd8260",
   "metadata": {},
   "source": [
    "# Algorithms & Data Structures"
   ]
  },
  {
   "cell_type": "markdown",
   "id": "d1ea0513-2866-4a6c-866f-34c0e6baf447",
   "metadata": {},
   "source": [
    "## Simple Data Structures"
   ]
  },
  {
   "cell_type": "code",
   "execution_count": 19,
   "id": "64440386-b5a3-41fa-b7fa-fd78c3b88372",
   "metadata": {},
   "outputs": [
    {
     "data": {
      "text/plain": [
       "[1, 2, 3, 4, 5, 6, 7, 8, 9]"
      ]
     },
     "execution_count": 19,
     "metadata": {},
     "output_type": "execute_result"
    }
   ],
   "source": [
    "# lists\n",
    "a = [] << 1 << 2 << 3\n",
    "a.push(4, 5, 7)\n",
    "a.insert(a.length-1, 6)\n",
    "a.concat([8, :should_not_be_here, 9, 11])\n",
    "a.delete(:should_not_be_here)\n",
    "a.pop\n",
    "a.insert(0, 30933)\n",
    "a.shift()\n",
    "a"
   ]
  },
  {
   "cell_type": "code",
   "execution_count": 21,
   "id": "f21fb769-608c-45dc-86e5-2aaae406180c",
   "metadata": {},
   "outputs": [
    {
     "data": {
      "text/plain": [
       "[1, 4, 9, 16, 25, 36, 49, 64, 81]"
      ]
     },
     "execution_count": 21,
     "metadata": {},
     "output_type": "execute_result"
    }
   ],
   "source": [
    "squared_elements = a.map { |element| element * element }"
   ]
  },
  {
   "cell_type": "code",
   "execution_count": 23,
   "id": "b107b877-fbba-4692-9980-b30367481999",
   "metadata": {},
   "outputs": [
    {
     "data": {
      "text/plain": [
       "[2, 4, 6, 8]"
      ]
     },
     "execution_count": 23,
     "metadata": {},
     "output_type": "execute_result"
    }
   ],
   "source": [
    "even_elements = a.select { |element| element.even? }"
   ]
  },
  {
   "cell_type": "code",
   "execution_count": 24,
   "id": "af3c46a4-b344-4831-bd1f-63220a5f5b79",
   "metadata": {},
   "outputs": [
    {
     "data": {
      "text/plain": [
       "[1, 3, 5, 7, 9]"
      ]
     },
     "execution_count": 24,
     "metadata": {},
     "output_type": "execute_result"
    }
   ],
   "source": [
    "odd_elements = a.select { |element| element.odd? }"
   ]
  },
  {
   "cell_type": "code",
   "execution_count": 25,
   "id": "7dd0c425-05a0-42e3-bdaf-56f954b68ce8",
   "metadata": {},
   "outputs": [
    {
     "data": {
      "text/plain": [
       "[-2, -1, 0, 1, 2, 3, 4, 5, 6, 7, 8, 9]"
      ]
     },
     "execution_count": 25,
     "metadata": {},
     "output_type": "execute_result"
    }
   ],
   "source": [
    "a = [-2, -1, 0] + a    "
   ]
  },
  {
   "cell_type": "code",
   "execution_count": 27,
   "id": "84218de4-0bef-406d-8c57-8a3cf62147d1",
   "metadata": {},
   "outputs": [
    {
     "data": {
      "text/plain": [
       "[-2, -1]"
      ]
     },
     "execution_count": 27,
     "metadata": {},
     "output_type": "execute_result"
    }
   ],
   "source": [
    "negative_elements = a.reject { |element| element.positive? or element.zero? }"
   ]
  },
  {
   "cell_type": "code",
   "execution_count": 28,
   "id": "d7e701be-46ba-4baa-9675-0e16010a6576",
   "metadata": {},
   "outputs": [
    {
     "data": {
      "text/plain": [
       "[6, 9, 8, 3, 1, -2, 5, 2, 4, -1, 7, 0]"
      ]
     },
     "execution_count": 28,
     "metadata": {},
     "output_type": "execute_result"
    }
   ],
   "source": [
    "b = a.shuffle"
   ]
  },
  {
   "cell_type": "code",
   "execution_count": 46,
   "id": "94fe13b0-9504-4f16-a2c6-bee085e16471",
   "metadata": {},
   "outputs": [
    {
     "data": {
      "text/plain": [
       "[9, 8, 7, 6, 5, 4, 3, 2, 1, 0, -1, -2]"
      ]
     },
     "execution_count": 46,
     "metadata": {},
     "output_type": "execute_result"
    }
   ],
   "source": [
    "b.sort.reverse"
   ]
  },
  {
   "cell_type": "code",
   "execution_count": 37,
   "id": "4d4f7745-53a3-4e2b-acab-1503c5045e62",
   "metadata": {},
   "outputs": [
    {
     "data": {
      "text/plain": [
       "[8, 9, 10, 11, 12]"
      ]
     },
     "execution_count": 37,
     "metadata": {},
     "output_type": "execute_result"
    }
   ],
   "source": [
    "c = (8..12).to_a"
   ]
  },
  {
   "cell_type": "code",
   "execution_count": 41,
   "id": "27e503ac-62e6-42d8-8f73-e8f40db8f5ba",
   "metadata": {},
   "outputs": [
    {
     "data": {
      "text/plain": [
       "[-2, -1, 0, 1, 2, 3, 4, 5, 6, 7, 8, 9, 10, 11, 12]"
      ]
     },
     "execution_count": 41,
     "metadata": {},
     "output_type": "execute_result"
    }
   ],
   "source": [
    "d = a | c # concats but ignores duplicates (union)"
   ]
  },
  {
   "cell_type": "code",
   "execution_count": 42,
   "id": "43b815e6-c30f-4d8a-836c-6049a9682b12",
   "metadata": {},
   "outputs": [
    {
     "data": {
      "text/plain": [
       "[8, 9]"
      ]
     },
     "execution_count": 42,
     "metadata": {},
     "output_type": "execute_result"
    }
   ],
   "source": [
    "intersection_of_a_and_c = a & c"
   ]
  },
  {
   "cell_type": "code",
   "execution_count": 45,
   "id": "15036969-131d-42cf-8b9b-e4b8f9dc3c0a",
   "metadata": {},
   "outputs": [
    {
     "data": {
      "text/plain": [
       "[4, 5, 6, 7, 8, 9]"
      ]
     },
     "execution_count": 45,
     "metadata": {},
     "output_type": "execute_result"
    }
   ],
   "source": [
    "(1..9).to_a - (1..3).to_a # difference"
   ]
  },
  {
   "cell_type": "code",
   "execution_count": 50,
   "id": "2a2847a1-e058-43a9-8823-0ce9678e5dcd",
   "metadata": {},
   "outputs": [
    {
     "data": {
      "text/plain": [
       ":insertion_sort"
      ]
     },
     "execution_count": 50,
     "metadata": {},
     "output_type": "execute_result"
    }
   ],
   "source": [
    "def insertion_sort(list, reverse = false)\n",
    "    for i in 1...list.length\n",
    "        j = i - 1\n",
    "        while j >= 0 and (reverse ? list[j+1] > list[j] : list[j+1] < list[j])\n",
    "            temp = list[j+1]\n",
    "            list[j+1] = list[j]\n",
    "            list[j] = temp\n",
    "            j -= 1\n",
    "        end\n",
    "    end\n",
    "    return list\n",
    "end"
   ]
  },
  {
   "cell_type": "code",
   "execution_count": 52,
   "id": "f76ce18b-692d-4103-a40c-4dbd355e9658",
   "metadata": {},
   "outputs": [
    {
     "data": {
      "text/plain": [
       "[12, 11, 10, 9, 8, 7, 6, 5, 4, 3, 2, 1]"
      ]
     },
     "execution_count": 52,
     "metadata": {},
     "output_type": "execute_result"
    }
   ],
   "source": [
    "insertion_sort((1..12).to_a.shuffle, reverse = true)"
   ]
  },
  {
   "cell_type": "code",
   "execution_count": null,
   "id": "bd97109b-40ea-4411-91da-4557d3e8d9a5",
   "metadata": {},
   "outputs": [],
   "source": []
  }
 ],
 "metadata": {
  "kernelspec": {
   "display_name": "Ruby 3 (iruby kernel)",
   "language": "ruby",
   "name": "ruby3"
  },
  "language_info": {
   "file_extension": ".rb",
   "mimetype": "application/x-ruby",
   "name": "ruby",
   "version": "3.3.4"
  }
 },
 "nbformat": 4,
 "nbformat_minor": 5
}
