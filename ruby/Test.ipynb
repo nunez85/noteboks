{
 "cells": [
  {
   "cell_type": "code",
   "execution_count": 1,
   "id": "2150f42e",
   "metadata": {},
   "outputs": [
    {
     "name": "stdout",
     "output_type": "stream",
     "text": [
      "Key: name, Value: Alice\n",
      "Key: age, Value: 30\n",
      "Key: city, Value: New York\n"
     ]
    },
    {
     "data": {
      "text/plain": [
       "{\"name\"=>\"Alice\", \"age\"=>30, \"city\"=>\"New York\"}"
      ]
     },
     "execution_count": 1,
     "metadata": {},
     "output_type": "execute_result"
    }
   ],
   "source": [
    "# Define a hash\n",
    "my_hash = { \"name\" => \"Alice\", \"age\" => 30, \"city\" => \"New York\" }\n",
    "\n",
    "# Iterate over the hash\n",
    "my_hash.each do |key, value|\n",
    "  puts \"Key: #{key}, Value: #{value}\"\n",
    "end\n"
   ]
  },
  {
   "cell_type": "code",
   "execution_count": null,
   "id": "f5176e59",
   "metadata": {},
   "outputs": [],
   "source": []
  }
 ],
 "metadata": {
  "kernelspec": {
   "display_name": "Ruby 3 (iruby kernel)",
   "language": "ruby",
   "name": "ruby3"
  },
  "language_info": {
   "file_extension": ".rb",
   "mimetype": "application/x-ruby",
   "name": "ruby",
   "version": "3.3.4"
  }
 },
 "nbformat": 4,
 "nbformat_minor": 5
}
