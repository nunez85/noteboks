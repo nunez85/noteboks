{
 "cells": [
  {
   "cell_type": "code",
   "execution_count": 1,
   "id": "dd7c5fd4",
   "metadata": {},
   "outputs": [],
   "source": [
    "import \"fmt\""
   ]
  },
  {
   "cell_type": "code",
   "execution_count": 2,
   "id": "fe7deb27",
   "metadata": {},
   "outputs": [],
   "source": [
    "a := 1"
   ]
  },
  {
   "cell_type": "code",
   "execution_count": 3,
   "id": "52ff38a1",
   "metadata": {},
   "outputs": [
    {
     "name": "stdout",
     "output_type": "stream",
     "text": [
      "1\n"
     ]
    },
    {
     "data": {
      "text/plain": [
       "2 <nil>"
      ]
     },
     "execution_count": 3,
     "metadata": {},
     "output_type": "execute_result"
    }
   ],
   "source": [
    "fmt.Println(a)"
   ]
  },
  {
   "cell_type": "code",
   "execution_count": null,
   "id": "e6222d5e",
   "metadata": {},
   "outputs": [],
   "source": []
  }
 ],
 "metadata": {
  "kernelspec": {
   "display_name": "Go",
   "language": "go",
   "name": "gophernotes"
  },
  "language_info": {
   "codemirror_mode": "",
   "file_extension": ".go",
   "mimetype": "",
   "name": "go",
   "nbconvert_exporter": "",
   "pygments_lexer": "",
   "version": "go1.22.3"
  }
 },
 "nbformat": 4,
 "nbformat_minor": 5
}
