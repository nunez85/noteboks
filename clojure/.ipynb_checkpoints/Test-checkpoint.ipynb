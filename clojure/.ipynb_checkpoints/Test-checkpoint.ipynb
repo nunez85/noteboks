{
 "cells": [
  {
   "cell_type": "code",
   "execution_count": 1,
   "id": "137ed0b5",
   "metadata": {},
   "outputs": [
    {
     "data": {
      "text/plain": [
       "#'user/my-array"
      ]
     },
     "execution_count": 1,
     "metadata": {},
     "output_type": "execute_result"
    }
   ],
   "source": [
    "(def my-array [1 2 3 4 5])\n"
   ]
  },
  {
   "cell_type": "code",
   "execution_count": 2,
   "id": "74e319c0",
   "metadata": {},
   "outputs": [
    {
     "name": "stdout",
     "output_type": "stream",
     "text": [
      "1\n",
      "2\n",
      "3\n",
      "4\n",
      "5\n"
     ]
    },
    {
     "data": {
      "text/plain": [
       "nil"
      ]
     },
     "execution_count": 2,
     "metadata": {},
     "output_type": "execute_result"
    }
   ],
   "source": [
    "(doseq [item my-array]\n",
    "  (println item))"
   ]
  },
  {
   "cell_type": "code",
   "execution_count": null,
   "id": "d35d8e59",
   "metadata": {},
   "outputs": [],
   "source": []
  }
 ],
 "metadata": {
  "kernelspec": {
   "display_name": "Clojure (clojupyter-0.4.335)",
   "language": "clojure",
   "name": "clojupyter-0.4.335"
  },
  "language_info": {
   "file_extension": ".clj",
   "mimetype": "text/x-clojure",
   "name": "clojure",
   "version": "1.11.3"
  }
 },
 "nbformat": 4,
 "nbformat_minor": 5
}
