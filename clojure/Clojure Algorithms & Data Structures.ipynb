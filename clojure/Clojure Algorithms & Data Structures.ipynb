{
 "cells": [
  {
   "cell_type": "code",
   "execution_count": 1,
   "id": "37964666-8a6f-47a9-a8c3-74986312b1c6",
   "metadata": {},
   "outputs": [
    {
     "data": {
      "text/plain": [
       "true"
      ]
     },
     "execution_count": 1,
     "metadata": {},
     "output_type": "execute_result"
    }
   ],
   "source": [
    "(= (list 1 2 3) '(1 2 3))"
   ]
  },
  {
   "cell_type": "code",
   "execution_count": 9,
   "id": "76af8040-a45f-4be9-b545-1221ed3483ab",
   "metadata": {},
   "outputs": [
    {
     "data": {
      "text/plain": [
       "true"
      ]
     },
     "execution_count": 9,
     "metadata": {},
     "output_type": "execute_result"
    }
   ],
   "source": [
    "(= [1 2 3] (vec '(1 2 3)))"
   ]
  },
  {
   "cell_type": "code",
   "execution_count": 10,
   "id": "50046ddd-c572-44fe-82f0-328a86f8abb5",
   "metadata": {},
   "outputs": [
    {
     "data": {
      "text/plain": [
       "true"
      ]
     },
     "execution_count": 10,
     "metadata": {},
     "output_type": "execute_result"
    }
   ],
   "source": [
    "(= (first '(1 2 3)) (first [1 2 3]))"
   ]
  },
  {
   "cell_type": "code",
   "execution_count": 11,
   "id": "a654f20b-2c1e-46d6-9765-17f8da45a55f",
   "metadata": {},
   "outputs": [
    {
     "data": {
      "text/plain": [
       "3"
      ]
     },
     "execution_count": 11,
     "metadata": {},
     "output_type": "execute_result"
    }
   ],
   "source": [
    "(last '(1 2 3)) "
   ]
  },
  {
   "cell_type": "code",
   "execution_count": 12,
   "id": "f0a85c0f-cd7a-4dd3-8afd-87880cecb58a",
   "metadata": {},
   "outputs": [
    {
     "data": {
      "text/plain": [
       "(1 3)"
      ]
     },
     "execution_count": 12,
     "metadata": {},
     "output_type": "execute_result"
    }
   ],
   "source": [
    "(filter odd? '(1 2 3))"
   ]
  },
  {
   "cell_type": "code",
   "execution_count": 13,
   "id": "658703e5-1100-478e-8107-49377127d048",
   "metadata": {},
   "outputs": [
    {
     "data": {
      "text/plain": [
       "(2 3 4)"
      ]
     },
     "execution_count": 13,
     "metadata": {},
     "output_type": "execute_result"
    }
   ],
   "source": [
    "(map (fn [x] (+ x 1)) '(1 2 3))"
   ]
  },
  {
   "cell_type": "code",
   "execution_count": 14,
   "id": "11a081f7-7724-4ae1-aea7-68361ca4cccd",
   "metadata": {},
   "outputs": [
    {
     "data": {
      "text/plain": [
       "(2 3 4)"
      ]
     },
     "execution_count": 14,
     "metadata": {},
     "output_type": "execute_result"
    }
   ],
   "source": [
    "(map #(+ % 1) '(1 2 3))"
   ]
  },
  {
   "cell_type": "code",
   "execution_count": 15,
   "id": "225acddf-4dbd-42e9-9536-0ad45f6584ed",
   "metadata": {},
   "outputs": [
    {
     "data": {
      "text/plain": [
       "#'user/addOne"
      ]
     },
     "execution_count": 15,
     "metadata": {},
     "output_type": "execute_result"
    }
   ],
   "source": [
    "(defn addOne [x] (+ x 1))"
   ]
  },
  {
   "cell_type": "code",
   "execution_count": 16,
   "id": "e46f3ca0-7943-4c6c-a2e1-fb72dbf82a98",
   "metadata": {},
   "outputs": [
    {
     "data": {
      "text/plain": [
       "(2 3 4)"
      ]
     },
     "execution_count": 16,
     "metadata": {},
     "output_type": "execute_result"
    }
   ],
   "source": [
    "(map addOne '(1 2 3))"
   ]
  },
  {
   "cell_type": "code",
   "execution_count": 17,
   "id": "8817c5ef-7447-4e7f-9979-02c198fbaf11",
   "metadata": {},
   "outputs": [
    {
     "data": {
      "text/plain": [
       "(3 2 1)"
      ]
     },
     "execution_count": 17,
     "metadata": {},
     "output_type": "execute_result"
    }
   ],
   "source": [
    "(reverse '(1 2 3))"
   ]
  },
  {
   "cell_type": "code",
   "execution_count": 18,
   "id": "61c44f19-0cd5-4072-9357-c8ba765b059c",
   "metadata": {},
   "outputs": [
    {
     "data": {
      "text/plain": [
       "2"
      ]
     },
     "execution_count": 18,
     "metadata": {},
     "output_type": "execute_result"
    }
   ],
   "source": [
    "(nth '(1 2 3) 1)"
   ]
  },
  {
   "cell_type": "code",
   "execution_count": 26,
   "id": "11493b82-b575-4597-9068-ddbffeade4bc",
   "metadata": {},
   "outputs": [
    {
     "data": {
      "text/plain": [
       "#'user/fib"
      ]
     },
     "execution_count": 26,
     "metadata": {},
     "output_type": "execute_result"
    }
   ],
   "source": [
    "(defn fib [n]\n",
    "    (loop [a 0 b 1 i 2] \n",
    "        (if (= n i) \n",
    "            (+ a b)\n",
    "            (recur b (+ a b) (inc i)))))"
   ]
  },
  {
   "cell_type": "code",
   "execution_count": 29,
   "id": "06fdfbb9-9ad1-4225-840f-577b160cb8fa",
   "metadata": {},
   "outputs": [
    {
     "data": {
      "text/plain": [
       "55"
      ]
     },
     "execution_count": 29,
     "metadata": {},
     "output_type": "execute_result"
    }
   ],
   "source": [
    "(fib 10)"
   ]
  },
  {
   "cell_type": "code",
   "execution_count": 39,
   "id": "cc98c68f-4955-48ca-b541-e404bbadc391",
   "metadata": {},
   "outputs": [
    {
     "data": {
      "text/plain": [
       "#'user/fib-list"
      ]
     },
     "execution_count": 39,
     "metadata": {},
     "output_type": "execute_result"
    }
   ],
   "source": [
    "(defn fib-list [n]\n",
    "    (loop [res [1] a 0 b 1 i 1]\n",
    "        (if (= n i)\n",
    "            res\n",
    "            (recur (conj res (+ a b)) b (+ a b) (inc i)))))  "
   ]
  },
  {
   "cell_type": "code",
   "execution_count": 40,
   "id": "aa13a253-aa66-4242-8fd0-08592f271b0a",
   "metadata": {},
   "outputs": [
    {
     "data": {
      "text/plain": [
       "[1 1 2 3 5 8 13 21 34 55]"
      ]
     },
     "execution_count": 40,
     "metadata": {},
     "output_type": "execute_result"
    }
   ],
   "source": [
    "(fib-list 10)"
   ]
  },
  {
   "cell_type": "code",
   "execution_count": 41,
   "id": "c05882fd-265e-4479-b0e0-dd21ec72d6f1",
   "metadata": {},
   "outputs": [
    {
     "name": "stdout",
     "output_type": "stream",
     "text": [
      "1\n",
      "2\n",
      "3\n"
     ]
    },
    {
     "data": {
      "text/plain": [
       "nil"
      ]
     },
     "execution_count": 41,
     "metadata": {},
     "output_type": "execute_result"
    }
   ],
   "source": [
    "((doseq [item '(1 2 3)]\n",
    "    (conj item))"
   ]
  },
  {
   "cell_type": "code",
   "execution_count": 42,
   "id": "58270a32-a821-4765-81ee-780a446282d1",
   "metadata": {},
   "outputs": [
    {
     "data": {
      "text/plain": [
       "(3 2 1)"
      ]
     },
     "execution_count": 42,
     "metadata": {},
     "output_type": "execute_result"
    }
   ],
   "source": [
    "(reduce conj '() '(1 2 3))"
   ]
  },
  {
   "cell_type": "code",
   "execution_count": 53,
   "id": "1ced6045-8d74-4793-9318-ce9ec69ce628",
   "metadata": {},
   "outputs": [
    {
     "name": "stdout",
     "output_type": "stream",
     "text": [
      "(h a n n a h)\n",
      "(h a n n a h)\n"
     ]
    },
    {
     "data": {
      "text/plain": [
       "nil"
      ]
     },
     "execution_count": 53,
     "metadata": {},
     "output_type": "execute_result"
    }
   ],
   "source": [
    "(println (reduce conj '() \"hannah\")) (println(seq (reduce conj [] \"hannah\")))"
   ]
  },
  {
   "cell_type": "code",
   "execution_count": 54,
   "id": "847d8112-f0aa-44b6-a57d-8532326a67a9",
   "metadata": {},
   "outputs": [
    {
     "data": {
      "text/plain": [
       "#'user/is-palindrome"
      ]
     },
     "execution_count": 54,
     "metadata": {},
     "output_type": "execute_result"
    }
   ],
   "source": [
    "(defn is-palindrome [x] (= (reduce conj '() x) (seq (reduce conj [] x))))"
   ]
  },
  {
   "cell_type": "code",
   "execution_count": 55,
   "id": "aaf115b8-1c82-49c2-893c-7dc442f1166d",
   "metadata": {},
   "outputs": [
    {
     "data": {
      "text/plain": [
       "true"
      ]
     },
     "execution_count": 55,
     "metadata": {},
     "output_type": "execute_result"
    }
   ],
   "source": [
    "(is-palindrome \"hannah\")"
   ]
  },
  {
   "cell_type": "code",
   "execution_count": 56,
   "id": "6e6efc7b-12c8-4d81-989f-d2cf6b4137ff",
   "metadata": {},
   "outputs": [
    {
     "data": {
      "text/plain": [
       "false"
      ]
     },
     "execution_count": 56,
     "metadata": {},
     "output_type": "execute_result"
    }
   ],
   "source": [
    "(is-palindrome \"hein\")"
   ]
  },
  {
   "cell_type": "code",
   "execution_count": 134,
   "id": "75780bcc-a9b5-4604-843d-0e602fa0ef64",
   "metadata": {},
   "outputs": [
    {
     "data": {
      "text/plain": [
       "\"HELLO\""
      ]
     },
     "execution_count": 134,
     "metadata": {},
     "output_type": "execute_result"
    }
   ],
   "source": [
    "(clojure.string/replace \"HeELLlOo\" #\"[^A-Z]\" \"\")"
   ]
  },
  {
   "cell_type": "code",
   "execution_count": 126,
   "id": "80a893cd-b990-4839-b9ed-eb416eaf8bfd",
   "metadata": {},
   "outputs": [
    {
     "data": {
      "text/plain": [
       "\"JO\""
      ]
     },
     "execution_count": 126,
     "metadata": {},
     "output_type": "execute_result"
    }
   ],
   "source": [
    "(apply str (filter #(Character/isUpperCase %) \"JelO\"))"
   ]
  },
  {
   "cell_type": "code",
   "execution_count": 78,
   "id": "43f552fe-11c7-446c-a399-de1a523ad15a",
   "metadata": {},
   "outputs": [
    {
     "data": {
      "text/plain": [
       "\"HL\""
      ]
     },
     "execution_count": 78,
     "metadata": {},
     "output_type": "execute_result"
    }
   ],
   "source": [
    "((fn [s] (apply str (filter #(= (str %) (clojure.string/upper-case (str %))) s))) \"HelLo\")\n"
   ]
  },
  {
   "cell_type": "code",
   "execution_count": 100,
   "id": "fe21c01e-da83-4d99-aa43-7ab9d9c86acd",
   "metadata": {},
   "outputs": [
    {
     "data": {
      "text/plain": [
       "#'user/is-letter?"
      ]
     },
     "execution_count": 100,
     "metadata": {},
     "output_type": "execute_result"
    }
   ],
   "source": [
    "(defn is-letter? [ch]\n",
    "  (or (and (<= (int \\a) (int ch) (int \\z)))\n",
    "      (and (<= (int \\A) (int ch) (int \\Z)))))"
   ]
  },
  {
   "cell_type": "code",
   "execution_count": 115,
   "id": "ab564f47-7aca-44cb-aaba-e7c39be65e95",
   "metadata": {},
   "outputs": [
    {
     "data": {
      "text/plain": [
       "#'user/filter-only-upper"
      ]
     },
     "execution_count": 115,
     "metadata": {},
     "output_type": "execute_result"
    }
   ],
   "source": [
    "(defn filter-only-upper [s]\n",
    "       (apply str (filter #(and (user/is-letter? %)(= (str %) (clojure.string/upper-case (str %)))) \n",
    "        s)))"
   ]
  },
  {
   "cell_type": "code",
   "execution_count": 120,
   "id": "0a72a9fe-139a-4659-bcc6-a52ba7de40dd",
   "metadata": {},
   "outputs": [
    {
     "data": {
      "text/plain": [
       "\"HLOWRD\""
      ]
     },
     "execution_count": 120,
     "metadata": {},
     "output_type": "execute_result"
    }
   ],
   "source": [
    "(user/filter-only-upper \"HeLlO, WoRlD!\")"
   ]
  },
  {
   "cell_type": "code",
   "execution_count": 124,
   "id": "67c741e7-0e66-4f8a-b0e4-63f49f89fa32",
   "metadata": {},
   "outputs": [
    {
     "data": {
      "text/plain": [
       "\"HLO, WRD!\""
      ]
     },
     "execution_count": 124,
     "metadata": {},
     "output_type": "execute_result"
    }
   ],
   "source": [
    "   ((defn only-upper [s] (apply str (filter #(and (fn [ch] (or (and (<= (int \\a) (int ch) (int \\z)))\n",
    "      (and (<= (int \\A) (int ch) (int \\Z))))) (= (str %) (clojure.string/upper-case (str %)))) s))) \"HeLlO, WoRlD!\")"
   ]
  },
  {
   "cell_type": "code",
   "execution_count": 152,
   "id": "1828c3a0-3f28-4e30-ba97-ae46c2947d37",
   "metadata": {},
   "outputs": [
    {
     "data": {
      "text/plain": [
       "#'user/filter-continuous-duplicate"
      ]
     },
     "execution_count": 152,
     "metadata": {},
     "output_type": "execute_result"
    }
   ],
   "source": [
    "(defn filter-continuous-duplicate [my-list]\n",
    "  (reduce \n",
    "    (fn [acc next-item]\n",
    "      (if (= (peek acc) next-item) \n",
    "        acc \n",
    "        (conj acc next-item)))\n",
    "    [] \n",
    "    my-list))"
   ]
  },
  {
   "cell_type": "code",
   "execution_count": 153,
   "id": "0a38fe3a-f0a5-426b-bdbb-78cba551e0b2",
   "metadata": {},
   "outputs": [
    {
     "data": {
      "text/plain": [
       "[1 2 3 4 5]"
      ]
     },
     "execution_count": 153,
     "metadata": {},
     "output_type": "execute_result"
    }
   ],
   "source": [
    "(user/filter-continuous-duplicate '(1 2 2 3 4 4 5))"
   ]
  },
  {
   "cell_type": "code",
   "execution_count": null,
   "id": "9791fa19-157e-4353-b72f-e54789dfb388",
   "metadata": {},
   "outputs": [],
   "source": [
    "(peek [1 2 3 4])"
   ]
  }
 ],
 "metadata": {
  "kernelspec": {
   "display_name": "Clojure (clojupyter-0.4.335)",
   "language": "clojure",
   "name": "clojupyter-0.4.335"
  },
  "language_info": {
   "file_extension": ".clj",
   "mimetype": "text/x-clojure",
   "name": "clojure",
   "version": "1.11.3"
  }
 },
 "nbformat": 4,
 "nbformat_minor": 5
}
