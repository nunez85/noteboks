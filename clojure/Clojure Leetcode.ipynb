{
 "cells": [
  {
   "cell_type": "markdown",
   "id": "0b6d5bda-7676-4c5c-a900-94353fc77a83",
   "metadata": {},
   "source": [
    "# Leetcode"
   ]
  },
  {
   "cell_type": "markdown",
   "id": "d623e624-0498-41c5-ba56-885df650dc44",
   "metadata": {},
   "source": [
    "## 1. Two Sum\n",
    "Given an array of integers nums and an integer target, return indices of the two numbers such that they add up to target.\n",
    "You may assume that each input would have exactly one solution, and you may not use the same element twice.\n",
    "You can return the answer in any order.\n",
    "\n",
    "- Example 1:\n",
    "Input: nums = [2,7,11,15], target = 9\n",
    "Output: [0,1]\n",
    "Explanation: Because nums[0] + nums[1] == 9, we return [0, 1].\n",
    "\n",
    "- Example 2:\n",
    "Input: nums = [3,2,4], target = 6\n",
    "Output: [1,2]\n",
    "\n",
    "- Example 3:\n",
    "Input: nums = [3,3], target = 6\n",
    "Output: [0,1]\n",
    " \n",
    "**Constraints**:\n",
    "- 2 <= nums.length <= 104\n",
    "- 109 <= nums[i] <= 109\n",
    "- 109 <= target <= 109\n",
    "- Only one valid answer exists."
   ]
  },
  {
   "cell_type": "code",
   "execution_count": 10,
   "id": "e792edae-9370-49bf-8fb8-3236a2d9799e",
   "metadata": {},
   "outputs": [
    {
     "data": {
      "text/plain": [
       "#'user/two-sum"
      ]
     },
     "execution_count": 10,
     "metadata": {},
     "output_type": "execute_result"
    }
   ],
   "source": [
    "(defn two-sum [nums target]\n",
    "    (let [differences (hashmap)]\n",
    "        ((doseq [n nums]\n",
    "            (let [diff (- target n) ]\n",
    "                (if (nil? (get differences diff)) () ())\n",
    "            )\n",
    "        ))\n",
    ")"
   ]
  },
  {
   "cell_type": "code",
   "execution_count": 11,
   "id": "2fe9f935-7883-4910-974a-ad14fc0362c8",
   "metadata": {},
   "outputs": [
    {
     "name": "stdout",
     "output_type": "stream",
     "text": [
      "3\n",
      "2\n",
      "1\n"
     ]
    },
    {
     "data": {
      "text/plain": [
       "nil"
      ]
     },
     "execution_count": 11,
     "metadata": {},
     "output_type": "execute_result"
    }
   ],
   "source": [
    "(user/two-sum '(1 2 3) 4)"
   ]
  },
  {
   "cell_type": "code",
   "execution_count": 7,
   "id": "e26fa357-e106-4a9b-988b-685c5c0e48ae",
   "metadata": {},
   "outputs": [
    {
     "name": "stdout",
     "output_type": "stream",
     "text": [
      "1\n",
      "2\n",
      "3\n"
     ]
    },
    {
     "data": {
      "text/plain": [
       "nil"
      ]
     },
     "execution_count": 7,
     "metadata": {},
     "output_type": "execute_result"
    }
   ],
   "source": [
    "(defn two-sum-second [nums target]\n",
    "  (reduce \n",
    "   (fn [differences n] \n",
    "       (let [diff (- target n)]\n",
    "           ())\n",
    "   {}\n",
    "   nums\n",
    "  )\n",
    ")"
   ]
  },
  {
   "cell_type": "code",
   "execution_count": 25,
   "id": "a9ea8e7b-c1f0-4f91-ad8f-9c6bf1d8ac04",
   "metadata": {},
   "outputs": [
    {
     "data": {
      "text/plain": [
       "3"
      ]
     },
     "execution_count": 25,
     "metadata": {},
     "output_type": "execute_result"
    }
   ],
   "source": [
    "(get {1 3} 1)"
   ]
  },
  {
   "cell_type": "code",
   "execution_count": 22,
   "id": "2749f77f-4b6c-4e20-a261-a2768e6f0103",
   "metadata": {},
   "outputs": [
    {
     "data": {
      "text/plain": [
       "true"
      ]
     },
     "execution_count": 22,
     "metadata": {},
     "output_type": "execute_result"
    }
   ],
   "source": [
    "(nil? nil )"
   ]
  },
  {
   "cell_type": "code",
   "execution_count": 53,
   "id": "35cba03c-e249-45ab-9bdd-120c7f717b08",
   "metadata": {},
   "outputs": [
    {
     "data": {
      "text/plain": [
       "#'user/my-two-sum"
      ]
     },
     "execution_count": 53,
     "metadata": {},
     "output_type": "execute_result"
    }
   ],
   "source": [
    "(def my-collection [1 2 3 4 5])\n",
    "(defn my-two-sum [nums target]\n",
    "(let [length (count nums) differences (atom {})] (loop [temp-nums nums]\n",
    "    (when (seq temp-nums)\n",
    "        (let [n (first temp-nums) diff (- target n) index (- length (count temp-nums))]\n",
    "            (if (nil? (get differences  \n",
    "                              diff))\n",
    "                [index n]\n",
    "                (recur (rest temp-nums))))))))"
   ]
  },
  {
   "cell_type": "code",
   "execution_count": 50,
   "id": "d05d81e2-feeb-48e5-b592-bbf8e52182c6",
   "metadata": {},
   "outputs": [
    {
     "data": {
      "text/plain": [
       "[2 3]"
      ]
     },
     "execution_count": 50,
     "metadata": {},
     "output_type": "execute_result"
    }
   ],
   "source": [
    "(user/my-two-sum my-collection 9)"
   ]
  },
  {
   "cell_type": "code",
   "execution_count": 62,
   "id": "fe796389-8895-4c14-8faf-ff3af90b68f7",
   "metadata": {},
   "outputs": [
    {
     "data": {
      "text/plain": [
       "{:a 1}"
      ]
     },
     "execution_count": 62,
     "metadata": {},
     "output_type": "execute_result"
    }
   ],
   "source": [
    "(swap! differences assoc :a 1)"
   ]
  },
  {
   "cell_type": "code",
   "execution_count": 64,
   "id": "86e220b8-32d3-499c-95f4-cd228aa87e53",
   "metadata": {},
   "outputs": [
    {
     "data": {
      "text/plain": [
       "#'user/differences"
      ]
     },
     "execution_count": 64,
     "metadata": {},
     "output_type": "execute_result"
    }
   ],
   "source": [
    "(def differences (atom {}))"
   ]
  },
  {
   "cell_type": "code",
   "execution_count": 65,
   "id": "9bf08530-06f1-4738-b32b-9645ea5551db",
   "metadata": {},
   "outputs": [
    {
     "data": {
      "text/plain": [
       "{}"
      ]
     },
     "execution_count": 65,
     "metadata": {},
     "output_type": "execute_result"
    }
   ],
   "source": [
    "@differences"
   ]
  },
  {
   "cell_type": "code",
   "execution_count": null,
   "id": "b2ee3aac-4550-48e5-84f1-720d0468ea2a",
   "metadata": {},
   "outputs": [],
   "source": []
  }
 ],
 "metadata": {
  "kernelspec": {
   "display_name": "Clojure (clojupyter-0.4.335)",
   "language": "clojure",
   "name": "clojupyter-0.4.335"
  },
  "language_info": {
   "file_extension": ".clj",
   "mimetype": "text/x-clojure",
   "name": "clojure",
   "version": "1.11.3"
  }
 },
 "nbformat": 4,
 "nbformat_minor": 5
}
