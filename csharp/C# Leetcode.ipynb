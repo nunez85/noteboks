{
 "cells": [
  {
   "cell_type": "markdown",
   "id": "d37b4064-c4a3-401b-9a25-14d174476c64",
   "metadata": {},
   "source": [
    "## 1. Two Sum\n",
    "Given an array of integers nums and an integer target, return indices of the two numbers such that they add up to target.\n",
    "You may assume that each input would have exactly one solution, and you may not use the same element twice.\n",
    "You can return the answer in any order.\n",
    "\n",
    "- Example 1:\n",
    "Input: nums = [2,7,11,15], target = 9\n",
    "Output: [0,1]\n",
    "Explanation: Because nums[0] + nums[1] == 9, we return [0, 1].\n",
    "\n",
    "- Example 2:\n",
    "Input: nums = [3,2,4], target = 6\n",
    "Output: [1,2]\n",
    "\n",
    "- Example 3:\n",
    "Input: nums = [3,3], target = 6\n",
    "Output: [0,1]\n",
    " \n",
    "**Constraints**:\n",
    "- 2 <= nums.length <= 104\n",
    "- 109 <= nums[i] <= 109\n",
    "- 109 <= target <= 109\n",
    "- Only one valid answer exists."
   ]
  },
  {
   "cell_type": "code",
   "execution_count": 2,
   "id": "bde4eec7-528b-443b-a861-c1d8716a09b9",
   "metadata": {},
   "outputs": [],
   "source": [
    "public class TwoSumSolution {\n",
    "    public static int[] TwoSum(int[] nums, int target) {\n",
    "        var res = new Dictionary<int, int>();\n",
    "        int diff;\n",
    "        int count = 0;\n",
    "        foreach(var n in nums) {\n",
    "            diff = target - n;\n",
    "            if(res.ContainsKey(diff)) {\n",
    "                return new int[] { res[diff], count };\n",
    "            }\n",
    "            res[n] = count;\n",
    "            count++;\n",
    "        }\n",
    "\n",
    "        return new int[] {0, 0};\n",
    "    }\n",
    "}"
   ]
  },
  {
   "cell_type": "code",
   "execution_count": 11,
   "id": "9ba26151-45f2-471e-ab68-353e0f5d5a99",
   "metadata": {},
   "outputs": [],
   "source": [
    "var twoSumRes1 = TwoSumSolution.TwoSum(new int[] {1, 2, 3, 4}, 5);"
   ]
  },
  {
   "cell_type": "code",
   "execution_count": 12,
   "id": "346d5760-adfc-4256-a3b8-ad85d8ac1eb0",
   "metadata": {},
   "outputs": [
    {
     "data": {
      "text/html": [
       "<div class=\"dni-plaintext\"><pre>[ 1, 2 ]</pre></div><style>\r\n",
       ".dni-code-hint {\r\n",
       "    font-style: italic;\r\n",
       "    overflow: hidden;\r\n",
       "    white-space: nowrap;\r\n",
       "}\r\n",
       ".dni-treeview {\r\n",
       "    white-space: nowrap;\r\n",
       "}\r\n",
       ".dni-treeview td {\r\n",
       "    vertical-align: top;\r\n",
       "    text-align: start;\r\n",
       "}\r\n",
       "details.dni-treeview {\r\n",
       "    padding-left: 1em;\r\n",
       "}\r\n",
       "table td {\r\n",
       "    text-align: start;\r\n",
       "}\r\n",
       "table tr { \r\n",
       "    vertical-align: top; \r\n",
       "    margin: 0em 0px;\r\n",
       "}\r\n",
       "table tr td pre \r\n",
       "{ \r\n",
       "    vertical-align: top !important; \r\n",
       "    margin: 0em 0px !important;\r\n",
       "} \r\n",
       "table th {\r\n",
       "    text-align: start;\r\n",
       "}\r\n",
       "</style>"
      ]
     },
     "execution_count": 12,
     "metadata": {},
     "output_type": "execute_result"
    }
   ],
   "source": [
    "twoSumRes1"
   ]
  },
  {
   "cell_type": "code",
   "execution_count": null,
   "id": "00d17c29-a3a7-4dc0-91fc-893f1c390a24",
   "metadata": {},
   "outputs": [],
   "source": []
  }
 ],
 "metadata": {
  "kernelspec": {
   "display_name": ".NET (C#)",
   "language": "C#",
   "name": ".net-csharp"
  },
  "language_info": {
   "file_extension": ".cs",
   "mimetype": "text/x-csharp",
   "name": "C#",
   "pygments_lexer": "csharp",
   "version": "12.0"
  }
 },
 "nbformat": 4,
 "nbformat_minor": 5
}
