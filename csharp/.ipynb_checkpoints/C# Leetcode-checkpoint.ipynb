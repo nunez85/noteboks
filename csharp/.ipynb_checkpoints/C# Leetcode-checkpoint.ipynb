{
 "cells": [
  {
   "cell_type": "markdown",
   "id": "d37b4064-c4a3-401b-9a25-14d174476c64",
   "metadata": {},
   "source": [
    "## 1. Two Sum\n",
    "Given an array of integers nums and an integer target, return indices of the two numbers such that they add up to target.\n",
    "You may assume that each input would have exactly one solution, and you may not use the same element twice.\n",
    "You can return the answer in any order.\n",
    "\n",
    "- Example 1:\n",
    "Input: nums = [2,7,11,15], target = 9\n",
    "Output: [0,1]\n",
    "Explanation: Because nums[0] + nums[1] == 9, we return [0, 1].\n",
    "\n",
    "- Example 2:\n",
    "Input: nums = [3,2,4], target = 6\n",
    "Output: [1,2]\n",
    "\n",
    "- Example 3:\n",
    "Input: nums = [3,3], target = 6\n",
    "Output: [0,1]\n",
    " \n",
    "**Constraints**:\n",
    "- 2 <= nums.length <= 104\n",
    "- 109 <= nums[i] <= 109\n",
    "- 109 <= target <= 109\n",
    "- Only one valid answer exists."
   ]
  },
  {
   "cell_type": "code",
   "execution_count": null,
   "id": "bde4eec7-528b-443b-a861-c1d8716a09b9",
   "metadata": {},
   "outputs": [],
   "source": [
    "public class Solution {\n",
    "    public int[] TwoSum(int[] nums, int target) {\n",
    "        var res = new Dictionary<int, int>();\n",
    "        int diff;\n",
    "        int count = 0;\n",
    "        foreach(var n in nums) {\n",
    "            diff = target - n;\n",
    "            if(res.ContainsKey(diff)) {\n",
    "                return new int[] { res[diff], count };\n",
    "            }\n",
    "            res[n] = count;\n",
    "            count++;\n",
    "        }\n",
    "\n",
    "        return new int[] {0, 0};\n",
    "    }\n",
    "}"
   ]
  }
 ],
 "metadata": {
  "kernelspec": {
   "display_name": ".NET (C#)",
   "language": "C#",
   "name": ".net-csharp"
  },
  "language_info": {
   "file_extension": ".cs",
   "mimetype": "text/x-csharp",
   "name": "C#",
   "pygments_lexer": "csharp",
   "version": "12.0"
  }
 },
 "nbformat": 4,
 "nbformat_minor": 5
}
